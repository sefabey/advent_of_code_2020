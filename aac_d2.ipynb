{
 "cells": [
  {
   "cell_type": "code",
   "execution_count": 1,
   "metadata": {},
   "outputs": [],
   "source": [
    "import pandas as pd"
   ]
  },
  {
   "cell_type": "code",
   "execution_count": 2,
   "metadata": {},
   "outputs": [],
   "source": [
    "input = pd.read_clipboard(sep=None, names = ['integers','letter','password'])\n",
    "input[['first_int', 'second_int']] = input.integers.str.split(\"-\",expand=True).astype(int)\n",
    "input[\"letter\"] = input[\"letter\"].str.replace(\":\", \"\")\n",
    "input.drop([\"integers\"], axis = 1, inplace=True)"
   ]
  },
  {
   "cell_type": "code",
   "execution_count": 3,
   "metadata": {},
   "outputs": [
    {
     "data": {
      "text/html": [
       "<div>\n",
       "<style scoped>\n",
       "    .dataframe tbody tr th:only-of-type {\n",
       "        vertical-align: middle;\n",
       "    }\n",
       "\n",
       "    .dataframe tbody tr th {\n",
       "        vertical-align: top;\n",
       "    }\n",
       "\n",
       "    .dataframe thead th {\n",
       "        text-align: right;\n",
       "    }\n",
       "</style>\n",
       "<table border=\"1\" class=\"dataframe\">\n",
       "  <thead>\n",
       "    <tr style=\"text-align: right;\">\n",
       "      <th></th>\n",
       "      <th>letter</th>\n",
       "      <th>password</th>\n",
       "      <th>first_int</th>\n",
       "      <th>second_int</th>\n",
       "    </tr>\n",
       "  </thead>\n",
       "  <tbody>\n",
       "    <tr>\n",
       "      <th>0</th>\n",
       "      <td>z</td>\n",
       "      <td>dqzzzjbzz</td>\n",
       "      <td>6</td>\n",
       "      <td>7</td>\n",
       "    </tr>\n",
       "    <tr>\n",
       "      <th>1</th>\n",
       "      <td>j</td>\n",
       "      <td>jjjvjmjjkjjjjjjj</td>\n",
       "      <td>13</td>\n",
       "      <td>16</td>\n",
       "    </tr>\n",
       "    <tr>\n",
       "      <th>2</th>\n",
       "      <td>m</td>\n",
       "      <td>mmbmmlvmbmmgmmf</td>\n",
       "      <td>5</td>\n",
       "      <td>6</td>\n",
       "    </tr>\n",
       "    <tr>\n",
       "      <th>3</th>\n",
       "      <td>k</td>\n",
       "      <td>pkkl</td>\n",
       "      <td>2</td>\n",
       "      <td>4</td>\n",
       "    </tr>\n",
       "    <tr>\n",
       "      <th>4</th>\n",
       "      <td>k</td>\n",
       "      <td>kkkkkkkkkkkkkkkqf</td>\n",
       "      <td>16</td>\n",
       "      <td>17</td>\n",
       "    </tr>\n",
       "  </tbody>\n",
       "</table>\n",
       "</div>"
      ],
      "text/plain": [
       "  letter           password  first_int  second_int\n",
       "0      z          dqzzzjbzz          6           7\n",
       "1      j   jjjvjmjjkjjjjjjj         13          16\n",
       "2      m    mmbmmlvmbmmgmmf          5           6\n",
       "3      k               pkkl          2           4\n",
       "4      k  kkkkkkkkkkkkkkkqf         16          17"
      ]
     },
     "execution_count": 3,
     "metadata": {},
     "output_type": "execute_result"
    }
   ],
   "source": [
    "input.head()"
   ]
  },
  {
   "cell_type": "code",
   "execution_count": 4,
   "metadata": {},
   "outputs": [
    {
     "name": "stdout",
     "output_type": "stream",
     "text": [
      "542\n"
     ]
    }
   ],
   "source": [
    "n=0\n",
    "for (idx, row) in input.iterrows():\n",
    "    letter_count = row[\"password\"].count(row[\"letter\"])\n",
    "    if letter_count >= row[\"first_int\"] and letter_count<=row[\"second_int\"] :\n",
    "        n+=1\n",
    "\n",
    "print(n)"
   ]
  },
  {
   "cell_type": "markdown",
   "metadata": {},
   "source": [
    "Each policy actually describes two positions in the password, \n",
    "where 1 means the first character, 2 means the second character, \n",
    "and so on. (Be careful; Toboggan Corporate Policies have no concept of \"index zero\"!)\n",
    "**Exactly one of these positions must contain the given letter.**"
   ]
  },
  {
   "cell_type": "code",
   "execution_count": 5,
   "metadata": {},
   "outputs": [
    {
     "data": {
      "text/plain": [
       "360"
      ]
     },
     "execution_count": 5,
     "metadata": {},
     "output_type": "execute_result"
    }
   ],
   "source": [
    "valid_list = []\n",
    "\n",
    "for (idx, row) in input.iterrows():\n",
    "    indices = []\n",
    "    \n",
    "    for i, elem in enumerate( row[\"password\"]):\n",
    "        if row[\"letter\"] in elem:\n",
    "            indices.append(i+1)\n",
    "    \n",
    "    if row[\"first_int\"] in indices and row[\"second_int\"] not in indices:\n",
    "        value = \"valid\"\n",
    "    elif row[\"second_int\"] in indices and row[\"first_int\"] not in indices:\n",
    "        value = \"valid\"\n",
    "    elif row[\"second_int\"] in indices and row[\"first_int\"] in indices:\n",
    "        value = \"not valid\"\n",
    "    else:\n",
    "        value = \"not valid\"\n",
    "    \n",
    "    valid_list.append(value)\n",
    "\n",
    "valid_list.count('valid')"
   ]
  }
 ],
 "metadata": {
  "kernelspec": {
   "display_name": "Python 3",
   "language": "python",
   "name": "python3"
  },
  "language_info": {
   "codemirror_mode": {
    "name": "ipython",
    "version": 3
   },
   "file_extension": ".py",
   "mimetype": "text/x-python",
   "name": "python",
   "nbconvert_exporter": "python",
   "pygments_lexer": "ipython3",
   "version": "3.7.6"
  }
 },
 "nbformat": 4,
 "nbformat_minor": 4
}
